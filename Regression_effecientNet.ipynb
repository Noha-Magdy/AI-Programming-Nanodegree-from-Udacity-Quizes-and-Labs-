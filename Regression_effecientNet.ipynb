{
  "nbformat": 4,
  "nbformat_minor": 0,
  "metadata": {
    "accelerator": "GPU",
    "colab": {
      "name": "Regression_effecientNet.ipynb",
      "provenance": [],
      "collapsed_sections": [],
      "include_colab_link": true
    },
    "kernelspec": {
      "display_name": "Python 3",
      "name": "python3"
    },
    "language_info": {
      "name": "python"
    }
  },
  "cells": [
    {
      "cell_type": "markdown",
      "metadata": {
        "id": "view-in-github",
        "colab_type": "text"
      },
      "source": [
        "<a href=\"https://colab.research.google.com/github/Noha-Magdy/AI-Programming-Nanodegree-from-Udacity-Quizes-and-Labs-/blob/master/Regression_effecientNet.ipynb\" target=\"_parent\"><img src=\"https://colab.research.google.com/assets/colab-badge.svg\" alt=\"Open In Colab\"/></a>"
      ]
    },
    {
      "cell_type": "code",
      "metadata": {
        "id": "M8-PvI1hlm1-",
        "colab": {
          "base_uri": "https://localhost:8080/"
        },
        "outputId": "af495a77-6f11-4f90-ec6b-a25be4b8afbe"
      },
      "source": [
        "import tensorflow as tf\n",
        "import numpy as np\n",
        "import os\n",
        "import pandas as pd\n",
        "import matplotlib.pyplot as plt  \n",
        "from sklearn.metrics import confusion_matrix\n",
        "import itertools\n",
        " \n",
        "from google.colab import drive\n",
        "drive.mount(\"/content/gdrive\")"
      ],
      "execution_count": 2,
      "outputs": [
        {
          "output_type": "stream",
          "text": [
            "Drive already mounted at /content/gdrive; to attempt to forcibly remount, call drive.mount(\"/content/gdrive\", force_remount=True).\n"
          ],
          "name": "stdout"
        }
      ]
    },
    {
      "cell_type": "markdown",
      "metadata": {
        "id": "e5TvvKbjnGmj"
      },
      "source": [
        "## Data pipeline"
      ]
    },
    {
      "cell_type": "code",
      "metadata": {
        "id": "nZZFv2WsnKKi"
      },
      "source": [
        "train_src = \"/content/gdrive/MyDrive/AIRABreast/AI Experiments/Tissue/Combined_classification_and_regression/Dataset/data/train\"\n",
        "val_src = \"/content/gdrive/MyDrive/AIRABreast/AI Experiments/Tissue/Combined_classification_and_regression/Dataset/data/val\"\n",
        "labels = pd.read_csv(\"/content/gdrive/MyDrive/AIRABreast/AI Experiments/Tissue/Combined_classification_and_regression/Dataset/kasr_tissue_percentage.csv\")\n",
        "\n",
        "\n",
        "# train_src = \"/content/gdrive/MyDrive/Combined_classification_and_regression/Dataset/data/train\"\n",
        "# val_src = \"/content/gdrive/MyDrive/Combined_classification_and_regression/Dataset/data/val\"\n",
        "# labels = pd.read_csv(\"/content/gdrive/MyDrive/Combined_classification_and_regression/Dataset/kasr_tissue_percentage.csv\")\n",
        "\n",
        "\n",
        "# labels = labels[labels.Tissue != \"-1\"]\n",
        "size = (512, 512)"
      ],
      "execution_count": 3,
      "outputs": []
    },
    {
      "cell_type": "code",
      "metadata": {
        "id": "2Pkgp459nNre"
      },
      "source": [
        "data_augmentation = tf.keras.Sequential([\n",
        "  tf.keras.layers.experimental.preprocessing.RandomFlip(\"horizontal\"),\n",
        "  tf.keras.layers.experimental.preprocessing.RandomContrast((0.2,2)),\n",
        "])"
      ],
      "execution_count": 4,
      "outputs": []
    },
    {
      "cell_type": "code",
      "metadata": {
        "id": "EIocfy04nR8R"
      },
      "source": [
        "@tf.function\n",
        "def square(x):\n",
        "  shape = tf.shape(x)\n",
        "  h, w, c = shape[0], shape[1], shape[2]\n",
        " \n",
        "  if h>w:\n",
        "    pad = h-w\n",
        "    first_pad = tf.cast(tf.math.ceil((h-w)/2), tf.int32)\n",
        "    second_pad = tf.cast(tf.math.floor((h-w)/2), tf.int32)\n",
        " \n",
        "    paddings = tf.concat(([[0, 0]],\n",
        "                                [[first_pad, second_pad]],\n",
        "                                [[0, 0]]), axis=0)\n",
        " \n",
        "    x = tf.pad(x, paddings, \"CONSTANT\")\n",
        " \n",
        " \n",
        "  elif w>h:\n",
        "    pad = h-w\n",
        "    first_pad = tf.cast(tf.math.ceil((w-h)/2), tf.int32)\n",
        "    second_pad = tf.cast(tf.math.floor((w-h)/2), tf.int32)\n",
        " \n",
        "    paddings = tf.concat(([[first_pad, second_pad]],\n",
        "                                [[0, 0]],\n",
        "                                [[0, 0]]), axis=0)\n",
        " \n",
        "    x = tf.pad(x, paddings, \"CONSTANT\")\n",
        " \n",
        "  return x\n",
        " \n",
        "def load_y(csv, y):\n",
        "  return csv[csv[\"Case Number\"]==y][\"Tissue\"]\n",
        " \n",
        "def load(src, size, x, y):\n",
        "  x1 = x\n",
        "  # tf.print(x)\n",
        "  x = tf.strings.join((src, \"/\", x))\n",
        "  x = tf.io.read_file(x)\n",
        "  x = tf.io.decode_png(x)\n",
        "  x = square(x)\n",
        "  x = tf.cast(x[:,:,:3], tf.float32)/255.  \n",
        "  x = tf.image.resize(x, size)\n",
        "  x = tf.squeeze(x)\n",
        "  x = tf.stack([x, x, x], axis=-1)\n",
        " \n",
        "  return (x, y)\n",
        " \n",
        "def load_split(src, size, csv, buffer_size=100, batch=8, augment = False ):\n",
        "  train_names = sorted(os.listdir(src))\n",
        "  \n",
        "\n",
        "  train_names = [ i for i in train_names if csv[csv[\"Case Number\"] == i.split(\"_\")[0]][\"Tissue Percentage\"].values[0]!=-1]\n",
        "  print(len(train_names))\n",
        "  target = [csv[csv[\"Case Number\"] == i.split(\"_\")[0]][\"Tissue Percentage\"].values[0] for i in train_names if csv[csv[\"Case Number\"] == i.split(\"_\")[0]][\"Tissue Percentage\"].values[0]!=-1]\n",
        "  target = [i/100 for i in target]\n",
        "  target = tf.cast(target, tf.float32)\n",
        " \n",
        "  dataset = tf.data.Dataset.from_tensor_slices((train_names, target))\n",
        "  dataset = dataset.shuffle(buffer_size)\n",
        "  dataset = dataset.map(lambda x, y: load(src, size, x, y)) \n",
        "  dataset = dataset.batch(batch)\n",
        " \n",
        "  # dataset = dataset.cache()\n",
        "  dataset = dataset.prefetch(buffer_size=tf.data.experimental.AUTOTUNE)\n",
        " \n",
        "  return dataset\n",
        " \n",
        " \n",
        " \n",
        "# for i in load_split(val_src, size, labels).take(1): print((i))"
      ],
      "execution_count": 33,
      "outputs": []
    },
    {
      "cell_type": "code",
      "metadata": {
        "id": "LniTXJUynR_Y",
        "colab": {
          "base_uri": "https://localhost:8080/"
        },
        "outputId": "cd259e6e-0068-4c7d-83aa-5de427b4e4db"
      },
      "source": [
        " \n",
        "train = load_split(train_src, size, labels)\n",
        "val = load_split(val_src, size, labels)"
      ],
      "execution_count": 34,
      "outputs": [
        {
          "output_type": "stream",
          "text": [
            "2093\n",
            "663\n"
          ],
          "name": "stdout"
        }
      ]
    },
    {
      "cell_type": "markdown",
      "metadata": {
        "id": "jLQ1Icz3nchp"
      },
      "source": [
        "## Model"
      ]
    },
    {
      "cell_type": "code",
      "metadata": {
        "id": "I-nU1Q8enSEg",
        "colab": {
          "base_uri": "https://localhost:8080/"
        },
        "outputId": "7329cda1-bea3-4cc9-8107-92440bb647cc"
      },
      "source": [
        "# base_model = tf.keras.applications.efficientnet.EfficientNetB1(include_top=False, weights='imagenet')\n",
        " \n",
        "# base_model.trainable = True\n",
        "# # for layer in base_model.layers:\n",
        "# #     layer.trainable = False\n",
        " \n",
        "# # for layer in base_model.layers[-20:]:\n",
        "# #     layer.trainable = True\n",
        "# top_dropout_rate = 0.2\n",
        " \n",
        "# model = tf.keras.Sequential([\n",
        "#           tf.keras.layers.InputLayer((512, 512, 3)),\n",
        "#           tf.keras.layers.experimental.preprocessing.RandomFlip(\"horizontal\"),\n",
        "#           tf.keras.layers.experimental.preprocessing.RandomContrast((0.2,2)),\n",
        "#           base_model,\n",
        "  \n",
        " \n",
        "#           tf.keras.layers.GlobalAveragePooling2D(name=\"avg_pool\"),\n",
        "#           tf.keras.layers.BatchNormalization(),\n",
        "#           tf.keras.layers.Dense(500),\n",
        "#           tf.keras.layers.Dropout(top_dropout_rate),\n",
        "#           tf.keras.layers.Dense(50),\n",
        "\n",
        "#           tf.keras.layers.Dropout(top_dropout_rate, name=\"top_dropout\"),\n",
        "#           tf.keras.layers.Dense(1, activation=\"sigmoid\", name=\"pred\")\n",
        "# ])\n",
        " \n",
        "# model.summary()"
      ],
      "execution_count": null,
      "outputs": [
        {
          "output_type": "stream",
          "text": [
            "Model: \"sequential_7\"\n",
            "_________________________________________________________________\n",
            "Layer (type)                 Output Shape              Param #   \n",
            "=================================================================\n",
            "efficientnetb1 (Functional)  (None, None, None, 1280)  6575239   \n",
            "_________________________________________________________________\n",
            "avg_pool (GlobalAveragePooli (None, 1280)              0         \n",
            "_________________________________________________________________\n",
            "batch_normalization_5 (Batch (None, 1280)              5120      \n",
            "_________________________________________________________________\n",
            "dense_10 (Dense)             (None, 500)               640500    \n",
            "_________________________________________________________________\n",
            "dropout_5 (Dropout)          (None, 500)               0         \n",
            "_________________________________________________________________\n",
            "dense_11 (Dense)             (None, 50)                25050     \n",
            "_________________________________________________________________\n",
            "top_dropout (Dropout)        (None, 50)                0         \n",
            "_________________________________________________________________\n",
            "pred (Dense)                 (None, 4)                 204       \n",
            "=================================================================\n",
            "Total params: 7,246,113\n",
            "Trainable params: 7,181,498\n",
            "Non-trainable params: 64,615\n",
            "_________________________________________________________________\n"
          ],
          "name": "stdout"
        }
      ]
    },
    {
      "cell_type": "code",
      "metadata": {
        "colab": {
          "base_uri": "https://localhost:8080/"
        },
        "id": "gM_i2DN9cYw_",
        "outputId": "03e69c7d-d3dc-48af-87c4-4d8a252fe6da"
      },
      "source": [
        "!pip install efficientnet\n",
        "import efficientnet.tfkeras as efn \n",
        "base_model = efn.EfficientNetB1(include_top=False, weights='imagenet')\n",
        " \n",
        "base_model.trainable = True\n",
        "\n",
        " \n",
        "model = tf.keras.Sequential([\n",
        "          tf.keras.layers.InputLayer((512, 512, 3)),\n",
        "          # tf.keras.layers.experimental.preprocessing.RandomFlip(\"horizontal_and_vertical\"),\n",
        "          base_model,\n",
        "          \n",
        "          tf.keras.layers.Conv2D(512, kernel_size = 3, padding = 'same', activation='relu',kernel_initializer='he_normal'),\n",
        "          # tf.keras.layers.Conv2D(, kernel_size = 3),\n",
        "\n",
        "          tf.keras.layers.GlobalAveragePooling2D(name=\"avg_pool\"),\n",
        "          tf.keras.layers.BatchNormalization(),\n",
        "          # tf.keras.layers.Dense(200),\n",
        "          # tf.keras.layers.Dropout(0.3),\n",
        "          # tf.keras.layers.Dense(20),\n",
        "\n",
        "          # tf.keras.layers.Dropout(0.3, name=\"top_dropout\"),\n",
        "          tf.keras.layers.Dense(1, activation=\"sigmoid\", name=\"pred\")\n",
        "])\n",
        " \n",
        "model.summary()"
      ],
      "execution_count": 41,
      "outputs": [
        {
          "output_type": "stream",
          "text": [
            "Requirement already satisfied: efficientnet in /usr/local/lib/python3.7/dist-packages (1.1.1)\n",
            "Requirement already satisfied: scikit-image in /usr/local/lib/python3.7/dist-packages (from efficientnet) (0.16.2)\n",
            "Requirement already satisfied: keras-applications<=1.0.8,>=1.0.7 in /usr/local/lib/python3.7/dist-packages (from efficientnet) (1.0.8)\n",
            "Requirement already satisfied: numpy>=1.9.1 in /usr/local/lib/python3.7/dist-packages (from keras-applications<=1.0.8,>=1.0.7->efficientnet) (1.19.5)\n",
            "Requirement already satisfied: h5py in /usr/local/lib/python3.7/dist-packages (from keras-applications<=1.0.8,>=1.0.7->efficientnet) (3.1.0)\n",
            "Requirement already satisfied: cached-property in /usr/local/lib/python3.7/dist-packages (from h5py->keras-applications<=1.0.8,>=1.0.7->efficientnet) (1.5.2)\n",
            "Requirement already satisfied: networkx>=2.0 in /usr/local/lib/python3.7/dist-packages (from scikit-image->efficientnet) (2.5.1)\n",
            "Requirement already satisfied: PyWavelets>=0.4.0 in /usr/local/lib/python3.7/dist-packages (from scikit-image->efficientnet) (1.1.1)\n",
            "Requirement already satisfied: imageio>=2.3.0 in /usr/local/lib/python3.7/dist-packages (from scikit-image->efficientnet) (2.4.1)\n",
            "Requirement already satisfied: matplotlib!=3.0.0,>=2.0.0 in /usr/local/lib/python3.7/dist-packages (from scikit-image->efficientnet) (3.2.2)\n",
            "Requirement already satisfied: pillow>=4.3.0 in /usr/local/lib/python3.7/dist-packages (from scikit-image->efficientnet) (7.1.2)\n",
            "Requirement already satisfied: scipy>=0.19.0 in /usr/local/lib/python3.7/dist-packages (from scikit-image->efficientnet) (1.4.1)\n",
            "Requirement already satisfied: cycler>=0.10 in /usr/local/lib/python3.7/dist-packages (from matplotlib!=3.0.0,>=2.0.0->scikit-image->efficientnet) (0.10.0)\n",
            "Requirement already satisfied: python-dateutil>=2.1 in /usr/local/lib/python3.7/dist-packages (from matplotlib!=3.0.0,>=2.0.0->scikit-image->efficientnet) (2.8.1)\n",
            "Requirement already satisfied: kiwisolver>=1.0.1 in /usr/local/lib/python3.7/dist-packages (from matplotlib!=3.0.0,>=2.0.0->scikit-image->efficientnet) (1.3.1)\n",
            "Requirement already satisfied: pyparsing!=2.0.4,!=2.1.2,!=2.1.6,>=2.0.1 in /usr/local/lib/python3.7/dist-packages (from matplotlib!=3.0.0,>=2.0.0->scikit-image->efficientnet) (2.4.7)\n",
            "Requirement already satisfied: six in /usr/local/lib/python3.7/dist-packages (from cycler>=0.10->matplotlib!=3.0.0,>=2.0.0->scikit-image->efficientnet) (1.15.0)\n",
            "Requirement already satisfied: decorator<5,>=4.3 in /usr/local/lib/python3.7/dist-packages (from networkx>=2.0->scikit-image->efficientnet) (4.4.2)\n",
            "Model: \"sequential_4\"\n",
            "_________________________________________________________________\n",
            "Layer (type)                 Output Shape              Param #   \n",
            "=================================================================\n",
            "efficientnet-b1 (Functional) (None, None, None, 1280)  6575232   \n",
            "_________________________________________________________________\n",
            "conv2d (Conv2D)              (None, 16, 16, 512)       5898752   \n",
            "_________________________________________________________________\n",
            "avg_pool (GlobalAveragePooli (None, 512)               0         \n",
            "_________________________________________________________________\n",
            "batch_normalization_3 (Batch (None, 512)               2048      \n",
            "_________________________________________________________________\n",
            "pred (Dense)                 (None, 1)                 513       \n",
            "=================================================================\n",
            "Total params: 12,476,545\n",
            "Trainable params: 12,413,473\n",
            "Non-trainable params: 63,072\n",
            "_________________________________________________________________\n"
          ],
          "name": "stdout"
        }
      ]
    },
    {
      "cell_type": "code",
      "metadata": {
        "id": "krwhIYz-dNmQ"
      },
      "source": [
        "# path = \"/content/gdrive/MyDrive/AIRABreast/AI Experiments/Tissue/Combined_classification_and_regression/weights\"+\"/expriment_\"+str(53)\n",
        "# os.mkdir(path)"
      ],
      "execution_count": 27,
      "outputs": []
    },
    {
      "cell_type": "code",
      "metadata": {
        "id": "eIV2FnwCp9tC"
      },
      "source": [
        "loss = tf.keras.losses.MeanSquaredError()\n",
        "optimizer = tf.keras.optimizers.Adam(learning_rate= 0.001)\n",
        "model.compile(optimizer=optimizer, loss=\"mse\")"
      ],
      "execution_count": 43,
      "outputs": []
    },
    {
      "cell_type": "code",
      "metadata": {
        "id": "iEmbw4ORcxDe"
      },
      "source": [
        "class SaveBestLoss(tf.keras.callbacks.Callback):\n",
        "    def __init__(self,path, metric='val_loss', best = 10000, **kwargs):\n",
        "        super().__init__(**kwargs)\n",
        "        self.metric = metric\n",
        "        self.best = best\n",
        "        self.path = path\n",
        "\n",
        "    def on_epoch_end(self, epoch, logs=None):\n",
        "        metric_value = logs[self.metric]\n",
        "        if metric_value < self.best:\n",
        "          self.best = metric_value\n",
        "          self.best_weights= self.model.get_weights()\n",
        "          self.model.save_weights(self.path+\"/best_loss.h5\")\n"
      ],
      "execution_count": 44,
      "outputs": []
    },
    {
      "cell_type": "code",
      "metadata": {
        "id": "J899wQWncxa4"
      },
      "source": [
        "class ModelSave(tf.keras.callbacks.Callback):\n",
        "    \"\"\"\n",
        "    Model save every n epoch\n",
        "    \"\"\"\n",
        "    def __init__(self, n_epoch, path, **kwargs):\n",
        "        super().__init__(**kwargs)\n",
        "        self.n_epoch = n_epoch\n",
        "        self.path = path\n",
        "\n",
        "    def on_epoch_end(self, epoch, logs=None):\n",
        "        path=self.path\n",
        "        if epoch % self.n_epoch == 0:\n",
        "            self.model.save_weights(path+\"/_\"+str(epoch)+\".h5\")"
      ],
      "execution_count": 45,
      "outputs": []
    },
    {
      "cell_type": "code",
      "metadata": {
        "id": "KQZi-uJTp_ik"
      },
      "source": [
        "reduce_lr = tf.keras.callbacks.ReduceLROnPlateau(monitor='val_loss', factor=0.1,\n",
        "                              patience=4, min_lr=0.0000001)\n",
        " \n",
        "early_stoppng = tf.keras.callbacks.EarlyStopping(monitor='val_loss', patience=15, min_delta=0.001, restore_best_weights=True)\n",
        "\n",
        "save_best_loss= SaveBestLoss(path = \"/content/gdrive/MyDrive/AIRABreast/AI Experiments/Tissue/Combined_classification_and_regression/weights/expriment_\"+str(53))\n",
        "save = ModelSave(n_epoch=1, path= \"/content/gdrive/MyDrive/AIRABreast/AI Experiments/Tissue/Combined_classification_and_regression/weights/expriment_\"+str(53))"
      ],
      "execution_count": 46,
      "outputs": []
    },
    {
      "cell_type": "code",
      "metadata": {
        "id": "xGoX7jZXqB5T",
        "colab": {
          "base_uri": "https://localhost:8080/"
        },
        "outputId": "8d1254e5-563a-4a5c-aa24-32e9ae9d4b5f"
      },
      "source": [
        "epochs = 100\n",
        "history= model.fit(\n",
        "    train,\n",
        "    validation_data=val,\n",
        "    epochs=epochs,\n",
        "    callbacks=[reduce_lr, early_stoppng, save_best_loss, save]\n",
        ") "
      ],
      "execution_count": null,
      "outputs": [
        {
          "output_type": "stream",
          "text": [
            "Epoch 1/100\n",
            "262/262 [==============================] - 641s 2s/step - loss: 0.0967 - val_loss: 0.0655\n",
            "Epoch 2/100\n",
            "262/262 [==============================] - 632s 2s/step - loss: 0.0474 - val_loss: 0.0633\n",
            "Epoch 3/100\n",
            "262/262 [==============================] - 627s 2s/step - loss: 0.0339 - val_loss: 0.0480\n",
            "Epoch 4/100\n",
            "262/262 [==============================] - 629s 2s/step - loss: 0.0296 - val_loss: 0.0263\n",
            "Epoch 5/100\n",
            "262/262 [==============================] - 658s 3s/step - loss: 0.0278 - val_loss: 0.0294\n",
            "Epoch 6/100\n",
            "262/262 [==============================] - 640s 2s/step - loss: 0.0234 - val_loss: 0.0518\n",
            "Epoch 7/100\n",
            "262/262 [==============================] - 642s 2s/step - loss: 0.0270 - val_loss: 0.0192\n",
            "Epoch 8/100\n",
            "262/262 [==============================] - 636s 2s/step - loss: 0.0265 - val_loss: 0.0187\n",
            "Epoch 9/100\n",
            "262/262 [==============================] - 640s 2s/step - loss: 0.0257 - val_loss: 0.0188\n",
            "Epoch 10/100\n",
            "262/262 [==============================] - 642s 2s/step - loss: 0.0224 - val_loss: 0.0488\n",
            "Epoch 11/100\n",
            "262/262 [==============================] - 641s 2s/step - loss: 0.0211 - val_loss: 0.0234\n",
            "Epoch 12/100\n",
            "262/262 [==============================] - 635s 2s/step - loss: 0.0219 - val_loss: 0.0478\n",
            "Epoch 13/100\n",
            "262/262 [==============================] - 630s 2s/step - loss: 0.0174 - val_loss: 0.0153\n",
            "Epoch 14/100\n",
            "262/262 [==============================] - 627s 2s/step - loss: 0.0165 - val_loss: 0.0157\n",
            "Epoch 15/100\n",
            "262/262 [==============================] - 624s 2s/step - loss: 0.0184 - val_loss: 0.0166\n",
            "Epoch 16/100\n",
            "262/262 [==============================] - 626s 2s/step - loss: 0.0161 - val_loss: 0.0154\n",
            "Epoch 17/100\n",
            "262/262 [==============================] - 624s 2s/step - loss: 0.0165 - val_loss: 0.0146\n",
            "Epoch 18/100\n",
            "262/262 [==============================] - 632s 2s/step - loss: 0.0174 - val_loss: 0.0151\n",
            "Epoch 19/100\n",
            " 41/262 [===>..........................] - ETA: 6:52 - loss: 0.0177"
          ],
          "name": "stdout"
        }
      ]
    },
    {
      "cell_type": "code",
      "metadata": {
        "id": "mFsyVuFRCRDc",
        "colab": {
          "base_uri": "https://localhost:8080/"
        },
        "outputId": "7f87f536-b53a-4f17-9a84-ce461ea457f4"
      },
      "source": [
        "model.save_weights(\"/content/gdrive/MyDrive/Combined_classification_and_regression/weights/effecient_exp_53_w.h5\")\n",
        "model.save(\"/content/gdrive/MyDrive/Combined_classification_and_regression/weights/effecient_exp_53.h5\")"
      ],
      "execution_count": null,
      "outputs": [
        {
          "output_type": "stream",
          "text": [
            "/usr/local/lib/python3.7/dist-packages/tensorflow/python/keras/utils/generic_utils.py:497: CustomMaskWarning: Custom mask layers require a config and must override get_config. When loading, the custom mask layer must be passed to the custom_objects argument.\n",
            "  category=CustomMaskWarning)\n"
          ],
          "name": "stderr"
        }
      ]
    },
    {
      "cell_type": "markdown",
      "metadata": {
        "id": "oWTl6tQdqF_-"
      },
      "source": [
        "# Evaluation"
      ]
    },
    {
      "cell_type": "code",
      "metadata": {
        "id": "UrCnqeb9qIT1",
        "colab": {
          "base_uri": "https://localhost:8080/"
        },
        "outputId": "e45e3fd7-e840-4963-e6c0-79582628e580"
      },
      "source": [
        "train_results = model.evaluate(train)\n",
        "print(\"train loss, train acc:\", train_results)"
      ],
      "execution_count": null,
      "outputs": [
        {
          "output_type": "stream",
          "text": [
            "127/127 [==============================] - 15s 116ms/step - loss: 0.5944\n",
            "train loss, train acc: 0.5943822860717773\n"
          ],
          "name": "stdout"
        }
      ]
    },
    {
      "cell_type": "code",
      "metadata": {
        "id": "9227ImII9kWE",
        "colab": {
          "base_uri": "https://localhost:8080/"
        },
        "outputId": "80186ea8-063a-4c31-d545-657fe0f629c4"
      },
      "source": [
        "def to_types(labels):\n",
        "  new_labels = []\n",
        "  for i in labels:\n",
        "    if i < 0.21:\n",
        "      new_labels.append(0)\n",
        "    elif i < 0.51:\n",
        "      new_labels.append(1)\n",
        "    elif i < 0.80:\n",
        "      new_labels.append(2)\n",
        "    else:\n",
        "      new_labels.append(3)\n",
        "  return new_labels\n",
        "\n",
        "l = [0.20, 0.80, 0.46, 0.65, 0.35, 0.99, 0.2]\n",
        "ll = to_types(l)\n",
        "ll"
      ],
      "execution_count": null,
      "outputs": [
        {
          "output_type": "execute_result",
          "data": {
            "text/plain": [
              "[0, 3, 1, 2, 1, 3, 0]"
            ]
          },
          "metadata": {
            "tags": []
          },
          "execution_count": 19
        }
      ]
    },
    {
      "cell_type": "code",
      "metadata": {
        "id": "tZpYEwk-qNv5",
        "colab": {
          "base_uri": "https://localhost:8080/"
        },
        "outputId": "f9d1a31e-3022-427e-fad1-02c783d3a57b"
      },
      "source": [
        "total_matrix = np.zeros((4,4))\n",
        "for x, y in train:\n",
        "  y = to_types(y)\n",
        "  y_hat = model.predict(x)\n",
        "  y_hat = to_types(y_hat)\n",
        "  matrix =  confusion_matrix(y, y_hat, labels=[0,1,2,3])\n",
        "  total_matrix += matrix \n",
        "\n",
        "total_matrix\n"
      ],
      "execution_count": null,
      "outputs": [
        {
          "output_type": "execute_result",
          "data": {
            "text/plain": [
              "array([[312.,   0.,   1.,  97.],\n",
              "       [392.,   1.,   3., 336.],\n",
              "       [230.,   2.,   1., 486.],\n",
              "       [ 43.,   0.,   0., 189.]])"
            ]
          },
          "metadata": {
            "tags": []
          },
          "execution_count": 40
        }
      ]
    },
    {
      "cell_type": "code",
      "metadata": {
        "id": "mf-si4K2qe2L"
      },
      "source": [
        "\n",
        "def plot_confusion_matrix(cm,\n",
        "                          target_names,\n",
        "                          title='Confusion matrix',\n",
        "                          cmap=None,\n",
        "                          normalize=False):\n",
        "   \n",
        "\n",
        "    accuracy = np.trace(cm) / float(np.sum(cm))\n",
        "    misclass = 1 - accuracy\n",
        "\n",
        "    if cmap is None:\n",
        "        cmap = plt.get_cmap('Blues')\n",
        "\n",
        "    plt.figure(figsize=(8, 6))\n",
        "    plt.imshow(cm, interpolation='nearest', cmap=cmap)\n",
        "    plt.title(title)\n",
        "    plt.colorbar()\n",
        "\n",
        "    if target_names is not None:\n",
        "        tick_marks = np.arange(len(target_names))\n",
        "        plt.xticks(tick_marks, target_names, rotation=45)\n",
        "        plt.yticks(tick_marks, target_names)\n",
        "\n",
        "    if normalize:\n",
        "        cm = cm.astype('float') / cm.sum(axis=1)[:, np.newaxis]\n",
        "\n",
        "\n",
        "    thresh = cm.max() / 1.5 if normalize else cm.max() / 2\n",
        "    for i, j in itertools.product(range(cm.shape[0]), range(cm.shape[1])):\n",
        "        if normalize:\n",
        "            plt.text(j, i, \"{:0.4f}\".format(cm[i, j]),\n",
        "                     horizontalalignment=\"center\",\n",
        "                     color=\"white\" if cm[i, j] > thresh else \"black\")\n",
        "        else:\n",
        "            plt.text(j, i, \"{:,}\".format(cm[i, j]),\n",
        "                     horizontalalignment=\"center\",\n",
        "                     color=\"white\" if cm[i, j] > thresh else \"black\")\n",
        "\n",
        "\n",
        "    plt.tight_layout()\n",
        "    plt.ylabel('True label')\n",
        "    plt.xlabel('Predicted label\\naccuracy={:0.4f}; misclass={:0.4f}'.format(accuracy, misclass))\n",
        "    plt.show()"
      ],
      "execution_count": null,
      "outputs": []
    },
    {
      "cell_type": "code",
      "metadata": {
        "id": "GvdR52fYqly8",
        "colab": {
          "base_uri": "https://localhost:8080/",
          "height": 467
        },
        "outputId": "212e6615-2a9f-4a99-86d6-4d15827bc46a"
      },
      "source": [
        "plot_confusion_matrix(total_matrix, [\"A\", \"B\", \"C\", \"D\"])"
      ],
      "execution_count": null,
      "outputs": [
        {
          "output_type": "display_data",
          "data": {
            "image/png": "[encoded data removed]",
            "text/plain": [
              "<Figure size 576x432 with 2 Axes>"
            ]
          },
          "metadata": {
            "tags": [],
            "needs_background": "light"
          }
        }
      ]
    },
    {
      "cell_type": "code",
      "metadata": {
        "id": "9W_zrN40zZ4W"
      },
      "source": [
        ""
      ],
      "execution_count": null,
      "outputs": []
    }
  ]
}